{
 "cells": [
  {
   "cell_type": "code",
   "execution_count": null,
   "id": "a9ca59d8",
   "metadata": {},
   "outputs": [],
   "source": [
    "https://www.hackerrank.com/challenges/japanese-cities-name/submissions/database/315352465"
   ]
  },
  {
   "cell_type": "code",
   "execution_count": null,
   "id": "0f02ec39",
   "metadata": {},
   "outputs": [],
   "source": [
    "https://www.hackerrank.com/challenges/revising-the-select-query/submissions/database/315351514"
   ]
  },
  {
   "cell_type": "code",
   "execution_count": null,
   "id": "d97fb426",
   "metadata": {},
   "outputs": [],
   "source": [
    "https://www.hackerrank.com/challenges/japan-population/submissions/database/315351289"
   ]
  },
  {
   "cell_type": "code",
   "execution_count": null,
   "id": "46a1267a",
   "metadata": {},
   "outputs": [],
   "source": [
    "Query the names of all the Japanese cities in the CITY table. The COUNTRYCODE for Japan is JPN.\n",
    "The CITY table is described as follows:\n",
    "CITY.jpg\n",
    "##\n",
    "SELECT NAME FROM CITY WHERE COUNTRYCODE = \"JPN\";"
   ]
  },
  {
   "cell_type": "code",
   "execution_count": null,
   "id": "1ef39bea",
   "metadata": {},
   "outputs": [],
   "source": [
    "Query all columns for all American cities in the CITY table with populations larger than 100000. The CountryCode for America is USA.\n",
    "\n",
    "The CITY table is described as follows:\n",
    "\n",
    "CITY.jpg\n",
    "##\n",
    "SELECT *\n",
    "FROM CITY \n",
    "WHERE CountryCode='USA'\n",
    "AND POPULATION  >100000;"
   ]
  },
  {
   "cell_type": "code",
   "execution_count": null,
   "id": "077879a0",
   "metadata": {},
   "outputs": [],
   "source": [
    "Query the sum of the populations for all Japanese cities in CITY. The COUNTRYCODE for Japan is JPN.\n",
    "\n",
    "Input Format\n",
    "\n",
    "The CITY table is described as follows: CITY.jpg\n",
    "    ##\n",
    "    SELECT SUM(POPULATION) \n",
    "FROM CITY \n",
    "WHERE COUNTRYCODE='JPN';"
   ]
  },
  {
   "cell_type": "code",
   "execution_count": null,
   "id": "9fc7dfc9",
   "metadata": {},
   "outputs": [],
   "source": [
    "https://codeforces.com/contest/1104/submission/194060573"
   ]
  }
 ],
 "metadata": {
  "kernelspec": {
   "display_name": "Python 3 (ipykernel)",
   "language": "python",
   "name": "python3"
  },
  "language_info": {
   "codemirror_mode": {
    "name": "ipython",
    "version": 3
   },
   "file_extension": ".py",
   "mimetype": "text/x-python",
   "name": "python",
   "nbconvert_exporter": "python",
   "pygments_lexer": "ipython3",
   "version": "3.9.12"
  }
 },
 "nbformat": 4,
 "nbformat_minor": 5
}
